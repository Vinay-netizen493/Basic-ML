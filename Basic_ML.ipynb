{
  "nbformat": 4,
  "nbformat_minor": 0,
  "metadata": {
    "colab": {
      "name": "Basic ML",
      "provenance": [],
      "collapsed_sections": [],
      "authorship_tag": "ABX9TyNzbRfZszrHjqzS6SPKUSfs",
      "include_colab_link": true
    },
    "kernelspec": {
      "name": "python3",
      "display_name": "Python 3"
    },
    "language_info": {
      "name": "python"
    }
  },
  "cells": [
    {
      "cell_type": "markdown",
      "metadata": {
        "id": "view-in-github",
        "colab_type": "text"
      },
      "source": [
        "<a href=\"https://colab.research.google.com/github/Vinay-netizen493/Basic-ML/blob/main/Basic_ML.ipynb\" target=\"_parent\"><img src=\"https://colab.research.google.com/assets/colab-badge.svg\" alt=\"Open In Colab\"/></a>"
      ]
    },
    {
      "cell_type": "code",
      "metadata": {
        "colab": {
          "base_uri": "https://localhost:8080/"
        },
        "id": "p2CcZvbg0NwD",
        "outputId": "38ec6350-4412-4e34-cd5a-48b1bf6a667b"
      },
      "source": [
        "a=int(input())\n",
        "b=int(input())\n",
        "c=a**b\n",
        "print(c)"
      ],
      "execution_count": null,
      "outputs": [
        {
          "output_type": "stream",
          "text": [
            "2\n",
            "3\n",
            "8\n"
          ],
          "name": "stdout"
        }
      ]
    },
    {
      "cell_type": "code",
      "metadata": {
        "colab": {
          "base_uri": "https://localhost:8080/"
        },
        "id": "epGo4UOm0zFB",
        "outputId": "88c193ca-c52d-4908-8fcb-aebb27c07702"
      },
      "source": [
        "n=int(input())\n",
        "if n%2==0:\n",
        "  print(\"even\")\n",
        "else:\n",
        "  print(\"odd\")"
      ],
      "execution_count": null,
      "outputs": [
        {
          "output_type": "stream",
          "text": [
            "3\n",
            "odd\n"
          ],
          "name": "stdout"
        }
      ]
    },
    {
      "cell_type": "code",
      "metadata": {
        "id": "BWx8Db2U0-e0"
      },
      "source": [
        "a=int(input())\n",
        "b=int(input())\n",
        "if(a>b):\n",
        "  print(a,\"is maximum\")\n",
        "elif(a<b):\n",
        "  print(b,\"is maximum\")\n",
        "else:\n",
        "  print(\"equal\")"
      ],
      "execution_count": null,
      "outputs": []
    },
    {
      "cell_type": "code",
      "metadata": {
        "id": "FkbZN0if1XWK"
      },
      "source": [
        "a=int(input())\n",
        "p=1\n",
        "for a in range(1,a+1):\n",
        "  p*=a\n",
        "print(\"factorial of\",a,\"is\",p)\n"
      ],
      "execution_count": null,
      "outputs": []
    }
  ]
}